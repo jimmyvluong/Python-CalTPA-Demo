{
 "cells": [
  {
   "cell_type": "code",
   "execution_count": 1,
   "metadata": {},
   "outputs": [],
   "source": [
    "# import packages\n",
    "# pandas is used to manipulate and clean DataFrames (tables)\n",
    "import pandas as pd\n",
    "# in this case, numpy is used to assign values, similar to CASE/WHEN in SQL\n",
    "import numpy as np\n",
    "# os is used to navigate file paths\n",
    "import os\n",
    "# glob is used to loop through files in multiple folders\n",
    "import glob"
   ]
  },
  {
   "cell_type": "code",
   "execution_count": null,
   "metadata": {},
   "outputs": [],
   "source": [
    "### Pre-work Step 1\n",
    "# This step specifies the column widths that you see in the \"caltpa file layout.txt\" file.\n",
    "# Specify the column widths for use in pd.read_fwf() below.\n",
    "# Need to start the index at 0.\n",
    "col_widths = [\n",
    "    (0,9), #1\n",
    "    (9,17), #2\n",
    "    (17,20), #3\n",
    "    (20,21), #4\n",
    "    (21,38), #5\n",
    "    (38,48), #6\n",
    "    (48,49), #7\n",
    "    (49,50), #8\n",
    "    (50,58), #9\n",
    "    (58,59), #10\n",
    "    (59,61), #11 \n",
    "    (61,63), #12\n",
    "    (63,65),\n",
    "    (65,68),\n",
    "    (68,71),\n",
    "    (71,74),\n",
    "    (74,77),\n",
    "    (77,80),\n",
    "    (80,83),\n",
    "    (83,86),\n",
    "    (86,89),\n",
    "    (89,92),\n",
    "    (92,93),\n",
    "    (93,96),\n",
    "    (96,98),\n",
    "    (98,-1)\n",
    "    ] "
   ]
  },
  {
   "cell_type": "code",
   "execution_count": null,
   "metadata": {},
   "outputs": [],
   "source": [
    "### Pre-work Step 2\n",
    "# Specify the column names for use in pd.read_fwf() below.\n",
    "col_names = [\n",
    "    'SSN', \n",
    "    'Reporting Date', \n",
    "    'Field Code', \n",
    "    'Blank_1', \n",
    "    'Last Name', \n",
    "    'First Name', \n",
    "    'Middle Initial', \n",
    "    'Blank_2', \n",
    "    'Birthdate',\n",
    "    'Blank_3', \n",
    "    'Number of Attempts', \n",
    "    'Cycle Passing Status',\n",
    "    'Cycle Total Score',\n",
    "    'Rubric 1',\n",
    "    'Rubric 2',\n",
    "    'Rubric 3',\n",
    "    'Rubric 4',\n",
    "    'Rubric 5',\n",
    "    'Rubric 6',\n",
    "    'Rubric 7',\n",
    "    'Rubric 8',\n",
    "    'Rubric 9',\n",
    "    'Blank_4',\n",
    "    'Institution',\n",
    "    'Preparation Program',\n",
    "    'Field Specialty'\n",
    "    ]"
   ]
  },
  {
   "cell_type": "code",
   "execution_count": null,
   "metadata": {},
   "outputs": [],
   "source": [
    "# Make an empty list. This is where each file name will go.\n",
    "file_list = []"
   ]
  },
  {
   "cell_type": "code",
   "execution_count": null,
   "metadata": {},
   "outputs": [],
   "source": [
    "# Change the file path here to the folder where the data is stored\n",
    "path = 'Data/'"
   ]
  },
  {
   "cell_type": "code",
   "execution_count": null,
   "metadata": {},
   "outputs": [],
   "source": [
    "# Using glob to look at every file in a folder, then append it to a list\n",
    "# Reference: https://stackoverflow.com/questions/18262293/how-to-open-every-file-in-a-folder\n",
    "for filename in glob.glob(os.path.join(path, '*.asc')):\n",
    "    with open(os.path.join(os.getcwd(), filename), 'r') as f: # open in readonly mode\n",
    "      # Read in the data using fixed widths.\n",
    "      # Reference: https://towardsdatascience.com/parsing-fixed-width-text-files-with-pandas-f1db8f737276\n",
    "      current_file = pd.read_fwf(\n",
    "          str(filename),\n",
    "          colspecs = col_widths,\n",
    "          names = col_names,\n",
    "          header = None,\n",
    "          )\n",
    "      file_list.append(current_file)"
   ]
  },
  {
   "cell_type": "code",
   "execution_count": null,
   "metadata": {},
   "outputs": [],
   "source": [
    "# Combine the files within the file_list to one text file\n",
    "# Reference: https://stackoverflow.com/questions/51960263/pandas-python-merge-multiple-file-text\n",
    "f_combined = pd.concat(file_list, axis=0)"
   ]
  },
  {
   "cell_type": "code",
   "execution_count": null,
   "metadata": {},
   "outputs": [],
   "source": [
    "# Convert the text file to a DataFrame.\n",
    "# By convention, name the new DataFrame \"df\"\n",
    "df = pd.DataFrame(f_combined)"
   ]
  },
  {
   "cell_type": "code",
   "execution_count": null,
   "metadata": {},
   "outputs": [],
   "source": [
    "# New method: drop by column name instead.\n",
    "df.drop(\n",
    "    ['Blank_1', 'Blank_2', 'Blank_3', 'Blank_4'],\n",
    "    axis = 1,\n",
    "    inplace = True\n",
    "    )\n"
   ]
  },
  {
   "cell_type": "code",
   "execution_count": null,
   "metadata": {},
   "outputs": [],
   "source": [
    "# Change column types to string\n",
    "df['Field Code'] = df['Field Code'].astype(str)"
   ]
  },
  {
   "cell_type": "code",
   "execution_count": null,
   "metadata": {},
   "outputs": [],
   "source": [
    "# Pad the zeros in \"Field Code\".\n",
    "df['Field Code'] = df['Field Code'].str.zfill(3)"
   ]
  },
  {
   "cell_type": "code",
   "execution_count": null,
   "metadata": {},
   "outputs": [],
   "source": [
    "# Insert the campus code in the last column based on \"Institution\" using np.select().\n",
    "# Reference: https://stackoverflow.com/questions/49228596/pandas-case-when-default-in-pandas\n",
    "# 308 == 55 == Campus A\n",
    "# 326 == 63 == Campus B\n",
    "# 334 == 65 == Campus C\n",
    "df['campusID'] = np.select(\n",
    "    [\n",
    "        df['Institution'] == 101,\n",
    "        df['Institution'] == 102,\n",
    "        df['Institution'] == 103,\n",
    "    ],\n",
    "    [\n",
    "        11,\n",
    "        12,\n",
    "        13\n",
    "    ],\n",
    "    default = 0\n",
    ")"
   ]
  },
  {
   "cell_type": "code",
   "execution_count": null,
   "metadata": {},
   "outputs": [],
   "source": [
    "# Print the unique values of 'campusID' to see if the np.select worked correctly\n",
    "print(df['campusID'].unique())"
   ]
  },
  {
   "cell_type": "code",
   "execution_count": null,
   "metadata": {},
   "outputs": [],
   "source": [
    "# Print the head of the DataFrame for inspection.\n",
    "print(df.head())"
   ]
  },
  {
   "cell_type": "code",
   "execution_count": null,
   "metadata": {},
   "outputs": [],
   "source": [
    "# Export to .csv with index = False.\n",
    "# Optional: For testing, remove the ID column, birthdate column, and Last Name column, then assign to a new DataFrame.\n",
    "df_new = df.drop(['ID_Num', 'Birthdate', 'Last Name'], axis=1)"
   ]
  },
  {
   "cell_type": "code",
   "execution_count": null,
   "metadata": {},
   "outputs": [],
   "source": [
    "# Save the DataFrame to the Data/ folder.\n",
    "save_location = path + \"CALTPA_processed_file.csv\"\n",
    "df_new.to_csv(save_location, index = False)"
   ]
  }
 ],
 "metadata": {
  "interpreter": {
   "hash": "8828ea7d9f1655ade28e5907a6f51d4b1cd1a8e20b8a69873b217b870f7b6304"
  },
  "kernelspec": {
   "display_name": "Python 3.10.2 ('minimal_ds')",
   "language": "python",
   "name": "python3"
  },
  "language_info": {
   "codemirror_mode": {
    "name": "ipython",
    "version": 3
   },
   "file_extension": ".py",
   "mimetype": "text/x-python",
   "name": "python",
   "nbconvert_exporter": "python",
   "pygments_lexer": "ipython3",
   "version": "3.10.2"
  },
  "orig_nbformat": 4
 },
 "nbformat": 4,
 "nbformat_minor": 2
}
