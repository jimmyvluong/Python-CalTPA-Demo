{
 "cells": [
  {
   "cell_type": "code",
   "execution_count": null,
   "metadata": {},
   "outputs": [],
   "source": [
    "# import packages\n",
    "# packages are used to access certain functions within the packages that perform specific things for us\n",
    "\n",
    "# pandas is used to manipulate and clean DataFrames (tables)\n",
    "import pandas as pd\n",
    "# in this case, numpy is used to assign values, similar to CASE/WHEN in SQL\n",
    "import numpy as np"
   ]
  },
  {
   "cell_type": "code",
   "execution_count": null,
   "metadata": {},
   "outputs": [],
   "source": [
    "### Pre-work Step 1\n",
    "# This step specifies the column widths that you see in the \"caltpa file layout.txt\" file.\n",
    "# Specify the column widths for use in pd.read_fwf() below.\n",
    "# Need to start the index at 0.\n",
    "col_widths = [\n",
    "    (0,9), #1\n",
    "    (9,17), #2\n",
    "    (17,20), #3\n",
    "    (20,21), #4\n",
    "    (21,38), #5\n",
    "    (38,48), #6\n",
    "    (48,49), #7\n",
    "    (49,50), #8\n",
    "    (50,58), #9\n",
    "    (58,59), #10\n",
    "    (59,61), #11 \n",
    "    (61,63), #12\n",
    "    (63,65),\n",
    "    (65,68),\n",
    "    (68,71),\n",
    "    (71,74),\n",
    "    (74,77),\n",
    "    (77,80),\n",
    "    (80,83),\n",
    "    (83,86),\n",
    "    (86,89),\n",
    "    (89,92),\n",
    "    (92,93),\n",
    "    (93,96),\n",
    "    (96,98),\n",
    "    (98,-1)\n",
    "    ] "
   ]
  },
  {
   "cell_type": "code",
   "execution_count": null,
   "metadata": {},
   "outputs": [],
   "source": [
    "### Pre-work Step 2\n",
    "# Specify the column names for use in pd.read_fwf() below.\n",
    "col_names = [\n",
    "    'ID_Num', \n",
    "    'Reporting Date', \n",
    "    'Field Code', \n",
    "    'Blank_1', \n",
    "    'Last Name', \n",
    "    'First Name', \n",
    "    'Middle Initial', \n",
    "    'Blank_2', \n",
    "    'Birthdate',\n",
    "    'Blank_3', \n",
    "    'Number of Attempts', \n",
    "    'Cycle Passing Status',\n",
    "    'Cycle Total Score',\n",
    "    'Rubric 1',\n",
    "    'Rubric 2',\n",
    "    'Rubric 3',\n",
    "    'Rubric 4',\n",
    "    'Rubric 5',\n",
    "    'Rubric 6',\n",
    "    'Rubric 7',\n",
    "    'Rubric 8',\n",
    "    'Rubric 9',\n",
    "    'Blank_4',\n",
    "    'Institution',\n",
    "    'Preparation Program',\n",
    "    'Field Specialty'\n",
    "    ]"
   ]
  },
  {
   "cell_type": "code",
   "execution_count": null,
   "metadata": {},
   "outputs": [],
   "source": [
    "# Specify the file's location and name\n",
    "file_location = 'Data/rc4321cycle20150302.asc'"
   ]
  },
  {
   "cell_type": "code",
   "execution_count": null,
   "metadata": {},
   "outputs": [],
   "source": [
    "# Read in the data using the function read_fwf, that reads in fixed-width-format data\n",
    "df = pd.read_fwf(\n",
    "          str(file_location),\n",
    "          colspecs = col_widths,\n",
    "          names = col_names,\n",
    "          header = None,\n",
    "          )"
   ]
  },
  {
   "cell_type": "code",
   "execution_count": null,
   "metadata": {},
   "outputs": [],
   "source": [
    "# View the head (top 5 rows) of the DataFrame. Note: there are only 2 rows in this DataFrame.\n",
    "df.head()"
   ]
  },
  {
   "cell_type": "code",
   "execution_count": null,
   "metadata": {},
   "outputs": [],
   "source": [
    "# Drop blank columns\n",
    "df.drop(\n",
    "    ['Blank_1', 'Blank_2', 'Blank_3', 'Blank_4'],\n",
    "    axis = 1,\n",
    "    inplace = True\n",
    "    )"
   ]
  },
  {
   "cell_type": "code",
   "execution_count": null,
   "metadata": {},
   "outputs": [],
   "source": [
    "# View the DataFrame\n",
    "df.head()"
   ]
  },
  {
   "cell_type": "code",
   "execution_count": null,
   "metadata": {},
   "outputs": [],
   "source": [
    "# Change column types to string\n",
    "df['Field Code'] = df['Field Code'].astype(str)"
   ]
  },
  {
   "cell_type": "code",
   "execution_count": null,
   "metadata": {},
   "outputs": [],
   "source": [
    "# Pad the zeros in \"Field Code\".\n",
    "df['Field Code'] = df['Field Code'].str.zfill(3)"
   ]
  },
  {
   "cell_type": "code",
   "execution_count": null,
   "metadata": {},
   "outputs": [],
   "source": [
    "# Insert the campus code in the last column based on \"Institution\" using np.select().\n",
    "# Reference: https://stackoverflow.com/questions/49228596/pandas-case-when-default-in-pandas\n",
    "# 101 == 11 == Campus A\n",
    "# 102 == 12 == Campus B\n",
    "# 103 == 13 == Campus C\n",
    "df['campusID'] = np.select(\n",
    "    [\n",
    "        df['Institution'] == 101,\n",
    "        df['Institution'] == 102,\n",
    "        df['Institution'] == 103,\n",
    "    ],\n",
    "    [\n",
    "        11,\n",
    "        12,\n",
    "        13\n",
    "    ],\n",
    "    default = 0\n",
    ")"
   ]
  },
  {
   "cell_type": "code",
   "execution_count": null,
   "metadata": {},
   "outputs": [],
   "source": [
    "# Print the unique values of 'campusID' to see if the np.select worked correctly\n",
    "print(df['campusID'].unique())"
   ]
  },
  {
   "cell_type": "code",
   "execution_count": null,
   "metadata": {},
   "outputs": [],
   "source": [
    "# Show the head of the DataFrame for inspection.\n",
    "df.head()"
   ]
  },
  {
   "cell_type": "code",
   "execution_count": null,
   "metadata": {},
   "outputs": [],
   "source": [
    "# Save the file to a .csv file\n",
    "df.to_csv(\"Processed_CalTPA Data.csv\", index = False)"
   ]
  }
 ],
 "metadata": {
  "interpreter": {
   "hash": "baa734239f8e6dae4b36b1ee0462f5a98c0c4c8d57c635124eefa65f44715ed6"
  },
  "kernelspec": {
   "display_name": "Python 3.10.2 ('data_analysis')",
   "language": "python",
   "name": "python3"
  },
  "language_info": {
   "codemirror_mode": {
    "name": "ipython",
    "version": 3
   },
   "file_extension": ".py",
   "mimetype": "text/x-python",
   "name": "python",
   "nbconvert_exporter": "python",
   "pygments_lexer": "ipython3",
   "version": "3.10.2"
  },
  "orig_nbformat": 4
 },
 "nbformat": 4,
 "nbformat_minor": 2
}
